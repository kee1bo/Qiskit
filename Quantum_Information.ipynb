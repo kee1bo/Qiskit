{
  "nbformat": 4,
  "nbformat_minor": 0,
  "metadata": {
    "colab": {
      "name": "Quantum_Information.ipynb",
      "provenance": [],
      "authorship_tag": "ABX9TyMN8ep8ckkCQowb9LNDGGLH",
      "include_colab_link": true
    },
    "kernelspec": {
      "name": "python3",
      "display_name": "Python 3"
    },
    "language_info": {
      "name": "python"
    }
  },
  "cells": [
    {
      "cell_type": "markdown",
      "metadata": {
        "id": "view-in-github",
        "colab_type": "text"
      },
      "source": [
        "<a href=\"https://colab.research.google.com/github/kee1bo/Qiskit/blob/main/Quantum_Information.ipynb\" target=\"_parent\"><img src=\"https://colab.research.google.com/assets/colab-badge.svg\" alt=\"Open In Colab\"/></a>"
      ]
    },
    {
      "cell_type": "markdown",
      "source": [
        "# **Part-1:** Fundamental Concepts \n",
        "1. Introduction and Overview\n",
        "2. Quantum Mechanics\n",
        "3. Computer Science\n",
        "<e>\n",
        "</e>\n",
        "\n",
        "# **PART-2:** Quantum Computation\n",
        "4. Quantum Circuits\n",
        "5. Quantum Fourier Transforms\n",
        "6. Quantum Search\n",
        "7. Physical Realizations \n",
        "\n",
        "# **PART-3:** Quantum Information\n",
        "8. Noise and Quantum Operations\n",
        "9. Distance Measure\n",
        "10. Quantum Error-Correction\n",
        "11. Entropy\n",
        "12. Quantum Information Theory\n",
        "\n",
        "    **STRUCTURE OF THE BOOK**\n",
        "\n",
        "    Strategy to complete this book with maximum learning rate?\n",
        "    - Suggested time to complete this book = 1 Year\n",
        "    - My Overview and Abstract Plan to complete this book based on the parts\n",
        "      - Part-1 = 1 month\n",
        "      -Part-2 = 2 1/2 month\n",
        "      - Part-3 = 4-5 months\n",
        "      - Total <= 8 1/2 months\n",
        "      "
      ],
      "metadata": {
        "id": "JE36dzXW0Zi0"
      }
    },
    {
      "cell_type": "markdown",
      "source": [
        "# Useful Links \n",
        "\n",
        "ON INFORMATION THEORY:\n",
        " \n",
        "  1. https://ocw.mit.edu/courses/electrical-engineering-and-computer-science/6-050j-information-and-entropy-spring-2008/bits-codes/"
      ],
      "metadata": {
        "id": "7sk-9hJby8R2"
      }
    },
    {
      "cell_type": "markdown",
      "source": [
        "# Approach\n",
        "- Think like a Physicist first\n",
        "- Then like a Computer Scientist\n",
        "- Then like a Information Theorist\n",
        "- And like a Cryptographer \n",
        "- This is just so that you can get some feel for the disparate perspectives which have come together in Quantum COmputation and Quantum Information.\n"
      ],
      "metadata": {
        "id": "xjYfzYCaCkIQ"
      }
    },
    {
      "cell_type": "code",
      "execution_count": null,
      "metadata": {
        "id": "x2iwl0KH0XWe"
      },
      "outputs": [],
      "source": [
        ""
      ]
    },
    {
      "cell_type": "code",
      "source": [
        ""
      ],
      "metadata": {
        "id": "DYvsNG7i-P_N"
      },
      "execution_count": null,
      "outputs": []
    },
    {
      "cell_type": "code",
      "source": [
        ""
      ],
      "metadata": {
        "id": "hODp4uY-REuI"
      },
      "execution_count": null,
      "outputs": []
    },
    {
      "cell_type": "markdown",
      "source": [
        ""
      ],
      "metadata": {
        "id": "PzZKwdTa0YpP"
      }
    }
  ]
}